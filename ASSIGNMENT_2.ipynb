{
  "nbformat": 4,
  "nbformat_minor": 0,
  "metadata": {
    "colab": {
      "provenance": [],
      "authorship_tag": "ABX9TyP218OQPosuuXawKI3qg4Kf",
      "include_colab_link": true
    },
    "kernelspec": {
      "name": "python3",
      "display_name": "Python 3"
    },
    "language_info": {
      "name": "python"
    }
  },
  "cells": [
    {
      "cell_type": "markdown",
      "metadata": {
        "id": "view-in-github",
        "colab_type": "text"
      },
      "source": [
        "<a href=\"https://colab.research.google.com/github/Sravya-mannava/ASSIGNMENT-2/blob/main/ASSIGNMENT_2.ipynb\" target=\"_parent\"><img src=\"https://colab.research.google.com/assets/colab-badge.svg\" alt=\"Open In Colab\"/></a>"
      ]
    },
    {
      "cell_type": "code",
      "execution_count": 23,
      "metadata": {
        "colab": {
          "base_uri": "https://localhost:8080/"
        },
        "id": "pDdDP8wC5R2A",
        "outputId": "702d5b43-3bed-4b4b-98a6-79920b530dcc"
      },
      "outputs": [
        {
          "output_type": "stream",
          "name": "stdout",
          "text": [
            "\n",
            "* \n",
            "* * \n",
            "* * * \n",
            "* * * * \n",
            "* * * * * \n",
            "* * * * \n",
            "* * * \n",
            "* * \n",
            "* \n"
          ]
        }
      ],
      "source": [
        "S = \"*\"\n",
        "for i in range(1,6): #range function is used to access the elements in given range\n",
        "  for j in range(1,i):\n",
        "    print(\"*\",end=' ') # end is used to end line\n",
        "  print(\"\")\n",
        "for i in range(6,1,-1): #-1 is used for decrement the i value\n",
        "  for j in range(1,i):\n",
        "    print(\"*\",end=' ')\n",
        "  print(\"\")"
      ]
    },
    {
      "cell_type": "code",
      "source": [
        "my_list = [10, 20, 30, 40, 50, 60, 70, 80, 90, 100]\n",
        "for i in my_list[1::2]: # :: is used for list slicing\n",
        "  print(i, end=\" \")"
      ],
      "metadata": {
        "colab": {
          "base_uri": "https://localhost:8080/"
        },
        "id": "VWr5qc2g6MxZ",
        "outputId": "68c8db27-1fe0-4bb5-a67d-7bbc972ba8ce"
      },
      "execution_count": 24,
      "outputs": [
        {
          "output_type": "stream",
          "name": "stdout",
          "text": [
            "20 40 60 80 100 "
          ]
        }
      ]
    },
    {
      "cell_type": "code",
      "source": [
        "x = [23, 'python',23.98]\n",
        "Type = [] #Type is empty list\n",
        "for i in x:\n",
        "  Type.append(type(i)) #type() returns the type of the list\n",
        "print(x)\n",
        "print(Type)"
      ],
      "metadata": {
        "colab": {
          "base_uri": "https://localhost:8080/"
        },
        "id": "VSYqvQ1S6cfF",
        "outputId": "dc4c086d-ccf5-48dd-c8da-3358d6b8f4df"
      },
      "execution_count": 26,
      "outputs": [
        {
          "output_type": "stream",
          "name": "stdout",
          "text": [
            "[23, 'python', 23.98]\n",
            "[<class 'int'>, <class 'str'>, <class 'float'>]\n"
          ]
        }
      ]
    },
    {
      "cell_type": "code",
      "source": [
        "Sample_List=[1,2,3,3,3,3,4,5]\n",
        "Unique_List=[]\n",
        "for i in Sample_List:\n",
        "  if i not in Unique_List:\n",
        "    Unique_List.append(i) #append() is used to append elements to list\n",
        "print(\"Sample_List:\",Sample_List)\n",
        "print(\"Unique List:\",Unique_List)"
      ],
      "metadata": {
        "colab": {
          "base_uri": "https://localhost:8080/"
        },
        "id": "C-nZ0WFy6-2k",
        "outputId": "2a1194eb-1d55-4d24-8ecb-f54b40af098a"
      },
      "execution_count": 27,
      "outputs": [
        {
          "output_type": "stream",
          "name": "stdout",
          "text": [
            "Sample_List: [1, 2, 3, 3, 3, 3, 4, 5]\n",
            "Unique List: [1, 2, 3, 4, 5]\n"
          ]
        }
      ]
    },
    {
      "cell_type": "code",
      "source": [
        "def case (s) :\n",
        "  uc= 0\n",
        "  lc= 0\n",
        "  for char in s:\n",
        "    if char.isupper () : #isupper() returns upper case letters\n",
        "      uc += 1 #this statement increment by 1\n",
        "    elif char.islower (): #islower() returns lower case letters\n",
        "      lc += 1\n",
        "  return uc, lc #return lenght of upper and lower case\n",
        "input = 'The quick Brow Fox'\n",
        "uc, lc = case (input) #assigning input to def() function\n",
        "print(\"Number of Upper case letters:\", uc)\n",
        "print(\"Number of Lower case letters:\", lc)"
      ],
      "metadata": {
        "colab": {
          "base_uri": "https://localhost:8080/"
        },
        "id": "-IVaGzqY8Rbr",
        "outputId": "ac9bdf25-8240-47a4-be7a-e48c5603eafd"
      },
      "execution_count": 29,
      "outputs": [
        {
          "output_type": "stream",
          "name": "stdout",
          "text": [
            "Number of Upper case letters: 3\n",
            "Number of Lower case letters: 12\n"
          ]
        }
      ]
    }
  ]
}